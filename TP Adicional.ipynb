{
 "cells": [
  {
   "cell_type": "markdown",
   "metadata": {},
   "source": [
    "# TP Adicional"
   ]
  },
  {
   "cell_type": "code",
   "execution_count": 11,
   "metadata": {},
   "outputs": [],
   "source": [
    "import json\n",
    "import tweepy\n",
    "from tweepy import *\n"
   ]
  },
  {
   "cell_type": "code",
   "execution_count": 12,
   "metadata": {},
   "outputs": [],
   "source": [
    "#tokens para acceder a la API de twitter\n",
    "consumer_key=\"VrrWb0wDoG2YvkVOXY0krIdP1\"\n",
    "consumer_secret=\"LINi3AaqDBYD4OeYPV752WuKMMgPMSo1evUhOu0afQwjdaK5tL\"\n",
    "auth = tweepy.OAuthHandler(consumer_key, consumer_secret)\n",
    "access_token=\"976231636642779137-3usy7F6Misxicy7WLQA3wbUJckWtjEb\"\n",
    "access_token_secret=\"n5QG8GnHdWGNRCVNGTc8JSlqePbmi3dBuumhpWjknBKYG\"\n",
    "auth.set_access_token(access_token, access_token_secret)\n",
    "api = tweepy.API(auth)\n"
   ]
  },
  {
   "cell_type": "code",
   "execution_count": 20,
   "metadata": {},
   "outputs": [],
   "source": [
    "#almacena 15 tweets que contienen el texto \"#valdiviacl\" en el arreglo data con varios datos\n",
    "data=[]\n",
    "tweets=api.search(q='#valdiviacl')\n",
    "j = 0\n",
    "while (j < 15):\n",
    "    datos=({'username':tweets[j].user.screen_name,'description':tweets[j].user.description,'text':tweets[j].text,'location':tweets[j].user.location,'likes':tweets[j].favorite_count,'RT':tweets[j].retweet_count,'_id':j})\n",
    "    data.append(datos)\n",
    "    j=j+1\n"
   ]
  },
  {
   "cell_type": "code",
   "execution_count": 21,
   "metadata": {},
   "outputs": [
    {
     "name": "stdout",
     "output_type": "stream",
     "text": [
      "[{'description': 'Twitter Oficial de la Dirección Regional en Los Ríos Servicio Nacional de Capacitación y Empleo', 'location': \"O'Higgins 116 Valdivia\", 'username': 'Sencerios', 'likes': 0, 'RT': 0, 'text': '#CapacitaciónSence ¿Estás cesante? Capacítate gratis con las Becas Fondo Cesantía Solidario del @Sencerios Curso de… https://t.co/FAmSB923Su', '_id': 0}, {'description': 'Secretaría Regional Ministerial de @MTTChile | Seremi Marcela Villenas | Ministra @GloriaHutt', 'location': 'Arauco #842, Valdivia.', 'username': 'MTTLosRios', 'likes': 0, 'RT': 2, 'text': 'RT @IntLosRios: AHORA: @IntLosRios @casenjojerez conversa con @rioenlinea respecto a temas de contingencia regional. #Valdiviacl #ElRanco #…', '_id': 1}, {'description': 'En #Valdivia COMPRA VENDE ARRIENDA TU PROPIEDAD CON NOSOTROS!\\n\\n☎ +56 9 74210868\\n💻 https://t.co/FNilFMujJa\\nSÍguemos en Facebook\\nhttps://t.co/SVl5m3B7R6…', 'location': 'Valdivia, Chile', 'username': 'C_Oettinger', 'likes': 0, 'RT': 0, 'text': \"PARCELAS RAPACO $13000000 ( A 3' Peaje La Unión)\\nMas info:\\nhttps://t.co/tADmcoGqSj\\nhttps://t.co/LJLqG4duHq\\n☎️ +56 9… https://t.co/SQu3LSTud2\", '_id': 2}, {'description': 'Secretaría Regional Ministerial de @MTTChile | Seremi Marcela Villenas | Ministra @GloriaHutt', 'location': 'Arauco #842, Valdivia.', 'username': 'MTTLosRios', 'likes': 0, 'RT': 0, 'text': '🚨 FISCALIZACIÓN | Durante esta mañana, realizamos control de vehículos mal estacionados en calle Pedro de Valdivia… https://t.co/8vj8qjrHhr', '_id': 3}, {'description': 'Plataforma informativa para las regiones de #LosRíos y #LosLagos.', 'location': 'Consultas al 600 401 2020', 'username': 'Saesa_', 'likes': 0, 'RT': 0, 'text': '@MaBoggie Hola @MaBoggie, según lo que nos indicas, se trataría de una falla que requiere mantención y esta labor l… https://t.co/XCHukK10YO', '_id': 4}, {'description': 'Trece años abrigándote y siendo tu techo preferido. Somos el Mall de #ValdiviaCL', 'location': 'Arauco 561 Valdivia, Chile', 'username': 'PlazaDeLosRios', 'likes': 0, 'RT': 5, 'text': 'RT @Omar_Sabat: Trabajamos para que #ValdiviaCL sea una ciudad \"Amigable con el Adulto Mayor\", para eso ya hemos avanzado en varias accione…', '_id': 5}, {'description': '', 'location': '', 'username': 'AsocMunLosRios', 'likes': 0, 'RT': 0, 'text': 'Excelente actividad pensada para los municipios de #LosRios #ValdiviaCL 👏👏👏 https://t.co/6RgTzgp0gu', '_id': 6}, {'description': 'Novedades de Artistas, productores y espectadores en Chile. Sígueme y mencióname para RT! Quieres más difusión aún? Escríbenos a agendapanoramaschile@gmail.com.', 'location': 'Chile', 'username': 'AgendaPanoramas', 'likes': 0, 'RT': 1, 'text': 'RT @ccmvaldivia: Sigamos disfrutando #festivaldedanzajuntoalríoValdivia /Acá quiénes se presenta hoy/Recuerden que las funciones son #gratu…', '_id': 7}, {'description': 'Síguenos y menciónanos con @TodoRTChile y haremos RT de tus novedades! :)', 'location': 'Chile', 'username': 'TodoRTChile', 'likes': 0, 'RT': 1, 'text': 'RT @C_Oettinger: RT\\n🏡 CORRETAJES OETTINGER BUSCA EN #VALDIVIA\\nSigue nuestras redes sociales!\\nhttps://t.co/LJLqG4duHq\\nhttps://t.co/tADmcoGqS…', '_id': 8}, {'description': 'En #Valdivia COMPRA VENDE ARRIENDA TU PROPIEDAD CON NOSOTROS!\\n\\n☎ +56 9 74210868\\n💻 https://t.co/FNilFMujJa\\nSÍguemos en Facebook\\nhttps://t.co/SVl5m3B7R6…', 'location': 'Valdivia, Chile', 'username': 'C_Oettinger', 'likes': 0, 'RT': 0, 'text': '🏡 #ValdiviaCL BRISAS DE LA RIBERA \\nEXCELENTE ESTADO\\n3 Dormitorios - 2 Baño - Sala Estar\\nCasa 64mts2 - Terreno 141mt… https://t.co/glk3xsYWCJ', '_id': 9}, {'description': 'Soy ecologista, frente amplista y político en #LosRios y #Valdiviacl . Sueño con un Chile y una Región Verde y ciudadana.', 'location': 'Valdivia, Chile', 'username': 'Valdivicho', 'likes': 0, 'RT': 0, 'text': 'Partido Ecologista Verde de la XIV Región de Los Ríos en septiembre iniciara ciclo de anime ecológico con grupos de… https://t.co/135K8sbBzy', '_id': 10}, {'description': 'En #Valdivia COMPRA VENDE ARRIENDA TU PROPIEDAD CON NOSOTROS!\\n\\n☎ +56 9 74210868\\n💻 https://t.co/FNilFMujJa\\nSÍguemos en Facebook\\nhttps://t.co/SVl5m3B7R6…', 'location': 'Valdivia, Chile', 'username': 'C_Oettinger', 'likes': 1, 'RT': 1, 'text': 'RT\\n🏡 CORRETAJES OETTINGER BUSCA EN #VALDIVIA\\nSigue nuestras redes sociales!\\nhttps://t.co/LJLqG4duHq… https://t.co/REWgoHt8LA', '_id': 11}, {'description': '', 'location': '', 'username': 'INDAPLosRios', 'likes': 0, 'RT': 11, 'text': 'RT @IntLosRios: @MTTLosRios Informa que desde hoy se iniciarán obras por normalización de semáforos en #Valdiviacl en Errázuriz, entre Beau…', '_id': 12}, {'description': '', 'location': 'Castro, Chiloe', 'username': 'Fco_Arsalco', 'likes': 0, 'RT': 4, 'text': 'RT @CChCValdivia: Te invitamos a leer la columna de opinión del presidente de la #CCHC #ValdiviaCl @Carlos_Arsalco en @austral_losrios sobr…', '_id': 13}, {'description': 'Seremi Vianca Muñoz Vera @ViancaMV Fono 63 – 2294 820 Dirección: Independencia N°491, Entrada por Paseo Libertad, 2° Piso. OF. 202, #Valdiviacl', 'location': 'Los Ríos, Chile', 'username': 'Economia_R_XIV', 'likes': 0, 'RT': 0, 'text': 'Fortaleciendo vinculo público público y el trabajo de actores de gobierno con los 12 municipios de la región 💪 line… https://t.co/jTFNBWHSrR', '_id': 14}]\n"
     ]
    }
   ],
   "source": [
    "#Se le debe dar gran importancia a las variables likes y retweet generadas en este proyecto,ya que través de dichas\n",
    "#variables se puede ovservar que tan influenciador o importante puede ser un usuario en una red social.\n",
    "#Por lo mencionado anteriormente,de los 15 tweets  impresos para este proyecto y que fueron escritos \n",
    "#por diferentes usuarios ,se puede concluir que el usuario Fco_Arsalco fue el mpas influenciador debido a que su tweet \n",
    "#ha sido retweeteado 4 veces.\n",
    "\n",
    "print(data)"
   ]
  },
  {
   "cell_type": "code",
   "execution_count": 15,
   "metadata": {},
   "outputs": [],
   "source": [
    "#se deja la variable data como un json \n",
    "with open(\"data.json\", \"w\") as f:\n",
    "    json.dump(data, f)\n"
   ]
  },
  {
   "cell_type": "code",
   "execution_count": 16,
   "metadata": {},
   "outputs": [
    {
     "name": "stdout",
     "output_type": "stream",
     "text": [
      "[{'username': 'EnergiaAtacama', 'description': 'Seremi de @Minenergia de la Región de Atacama l Seremi Marcelo Sepúlveda Gárate', 'location': \"O'Higgins 281, Copiapó\", 'text': 'RT @EnergiaLosRios: 🎙Seremi @fporflitt161 en @radiouach   “El proyecto d ley d #EficienciaEnergética tiene por objetivo promover el uso rac…', '_id': 0}, {'username': 'EnergiaAtacama', 'description': 'Seremi de @Minenergia de la Región de Atacama l Seremi Marcelo Sepúlveda Gárate', 'location': \"O'Higgins 281, Copiapó\", 'text': 'RT @EnergiaLosRios: En @radiouach seremi @fporflitt161 conversó sobre el impulso a la energía limpia, segura y económia, la promoción de la…', '_id': 1}, {'username': 'Deportes1029', 'description': 'De lunes a viernes de 19 a 20 horas.  Radio Para Ti Valdivia. 102.9 FM', 'location': 'Valdivia, Chile', 'text': '#Valdiviacl Las series menores del CD Valdivia siguen en competencia en #LigaSaesa\\nHoy, en Gimnasio de la Asociació… https://t.co/KLiB7FxKGK', '_id': 2}, {'username': 'PDI_LosRios', 'description': 'Twitter oficial PDI en la Región de Los Ríos. Síguenos para más información y consejos. Tus denuncias al 134. Investigar está en nuestro ADN #Valdiviacl', 'location': 'Valdivia, Los Ríos, Chile', 'text': 'Bidema #Valdiviacl participa en reunión organizada por el Consejo Comunal de Seguridad Pública de #Panguipulli en l… https://t.co/XJP1IPqqvE', '_id': 3}, {'username': 'RespiraValdivia', 'description': 'Nos preocupa toxicidad del aire en Valdivia, publicamos promedio movil de calidad del aire. Parte de @RespiraChile', 'location': 'Valdivia, Chile', 'text': 'La Calidad del Aire en #valdiviacl \\nMALO\\nPM2.5:102.83\\nPM10:112.52\\n10:00hrs\\nMas Info:https://t.co/xh7FlcJicA 38', '_id': 4}, {'username': 'MTTLosRios', 'description': 'Secretaría Regional Ministerial de @MTTChile | Seremi Marcela Villenas | Ministra @GloriaHutt', 'location': 'Arauco #842, Valdivia.', 'text': 'RT @MTTLosRios: 📱💻\\xa0#ValdiviaCL #ElRanco #LosRíos https://t.co/0vy0WIRcQL', '_id': 5}, {'username': 'EnergiaLosRios', 'description': 'Twitter Oficial de la Seremi de Energía de la región de Los Ríos.', 'location': 'Calle Maipú 187 Of.43 Valdivia', 'text': 'RT @IntLosRios: @MTTLosRios Informa que desde hoy se iniciarán obras por normalización de semáforos en #Valdiviacl en Errázuriz, entre Beau…', '_id': 6}, {'username': 'EnergiaLosRios', 'description': 'Twitter Oficial de la Seremi de Energía de la región de Los Ríos.', 'location': 'Calle Maipú 187 Of.43 Valdivia', 'text': 'RT @IntLosRios: AHORA: @IntLosRios @casenjojerez conversa con @rioenlinea respecto a temas de contingencia regional. #Valdiviacl #ElRanco #…', '_id': 7}, {'username': 'enrique_mayo', 'description': 'MSc Toxicología U.Hab, DrMV UNAH, Coop.Cuba-Ec, Diplomado COMEX, Biotec/Salud/y Vacunas. De vocación ambientalista y convencido d la integración.', 'location': 'QuitoyHabana CiudadsPatrimonio', 'text': 'RT @patriciorosas: 🚨 #NubeToxica en #Quintero obligó a suspensión de clases en toda la comuna!\\n🚨35 estudiantes intoxicados, 3 de ellos de g…', '_id': 8}, {'username': 'MedioAmbiente14', 'description': 'Secretaria Regional Ministerial del Medio Ambiente de la Región de Los Ríos. Carlos Anwandter nº466. Fono 63-2361610', 'location': 'Valdivia, Chile', 'text': 'RT @segegoblosrios: PRENSA | Seremi @huntergann por cifras Casen: “el Gobierno de nuestro Pdte @sebastianpinera está cumpliendo el compromi…', '_id': 9}, {'username': 'ccmvaldivia', 'description': 'Twitter Oficial de la Corporación Cultural Municipal de Valdivia', 'location': 'Valdivia', 'text': '@FesEntrecuerdas lo destaca hoy la prensa #RevistaPanoramas de @austral_losrios @munivaldivia @MunicipalVald… https://t.co/AtZfg7TL4Y', '_id': 10}, {'username': 'AgenciadeSE', 'description': 'Somos la Agencia de Sostenibilidad Energética, una fundación de derecho privado sin fines de lucro.', 'location': 'Chile', 'text': 'RT @EnergiaLosRios: En @radiouach seremi @fporflitt161 conversó sobre el impulso a la energía limpia, segura y económia, la promoción de la…', '_id': 11}, {'username': 'MedioAmbiente14', 'description': 'Secretaria Regional Ministerial del Medio Ambiente de la Región de Los Ríos. Carlos Anwandter nº466. Fono 63-2361610', 'location': 'Valdivia, Chile', 'text': 'RT @IntLosRios: @MTTLosRios Informa que desde hoy se iniciarán obras por normalización de semáforos en #Valdiviacl en Errázuriz, entre Beau…', '_id': 12}, {'username': 'EnergiaLosRios', 'description': 'Twitter Oficial de la Seremi de Energía de la región de Los Ríos.', 'location': 'Calle Maipú 187 Of.43 Valdivia', 'text': 'RT @segegoblosrios: PRENSA | Seremi @huntergann por cifras Casen: “el Gobierno de nuestro Pdte @sebastianpinera está cumpliendo el compromi…', '_id': 13}, {'username': 'InforiosCL', 'description': 'Visita nuestro sitio web y revisa toda la actualidad de la Región de Los Ríos | contacto@noticiaslosrios.cl', 'location': 'Región de Los Ríos, Chile.', 'text': 'Cambio de planes: Finalmente el domingo alzará sus tableros el puente Cau Cau #ValdiviaCL https://t.co/PXCnVTtDVM', '_id': 14}]\n"
     ]
    }
   ],
   "source": [
    "#se abre el nuevo archivo data.son para verficar que funcione correctamente\n",
    "\n",
    "with open(\"data.json\") as f:\n",
    "    data = json.load(f)\n",
    "    print(data)\n"
   ]
  },
  {
   "cell_type": "code",
   "execution_count": null,
   "metadata": {},
   "outputs": [],
   "source": [
    "#identificacion de usuario  para \"enlazar \" el documento data.json con neo4j mediante la liberia py2neo\n",
    "from py2neo import Graph, authenticate\n",
    "\n",
    "authenticate(\"localhost:7474\", \"neo4j\", \"mauri\")\n",
    "graph = Graph()\n"
   ]
  },
  {
   "cell_type": "code",
   "execution_count": null,
   "metadata": {},
   "outputs": [],
   "source": [
    "#se abre el documento json \n",
    "with open(\"data.json\") as f:\n",
    "    data = json.load(f)\n",
    "    print(data)\n"
   ]
  },
  {
   "cell_type": "code",
   "execution_count": null,
   "metadata": {},
   "outputs": [],
   "source": [
    "#se comienza con las consultas cypher para la creacion de los nodos a partir del archivo json,esto se puede hacer mediante\n",
    "#la sentencia UNWIND.\n",
    "#Un ejemplo de como poder utilizarla:\n",
    "#documento en formato json\n",
    "#{\n",
    "  #\"events\" : [ {\n",
    "    #\"year\" : 2014,\n",
    "    #\"id\" : 1\n",
    "  #}, {\n",
    "    #\"year\" : 2014,\n",
    "    #\"id\" : 2\n",
    "  #} ]\n",
    "#}\n",
    "#query:\n",
    "#UNWIND $events AS event\n",
    "#MERGE (y:Year { year: event.year })\n",
    "#MERGE (y)<-[:IN]-(e:Event { id: event.id })\n",
    "#RETURN e.id AS x\n",
    "#ORDER BY x\n"
   ]
  }
 ],
 "metadata": {
  "kernelspec": {
   "display_name": "Python 3",
   "language": "python",
   "name": "python3"
  },
  "language_info": {
   "codemirror_mode": {
    "name": "ipython",
    "version": 3
   },
   "file_extension": ".py",
   "mimetype": "text/x-python",
   "name": "python",
   "nbconvert_exporter": "python",
   "pygments_lexer": "ipython3",
   "version": "3.5.2"
  }
 },
 "nbformat": 4,
 "nbformat_minor": 2
}
